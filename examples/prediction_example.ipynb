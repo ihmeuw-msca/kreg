{
 "cells": [
  {
   "cell_type": "code",
   "execution_count": null,
   "metadata": {},
   "outputs": [],
   "source": [
    "import jax.numpy as jnp\n",
    "import matplotlib.pyplot as plt\n",
    "import numpy as np\n",
    "\n",
    "from jax.scipy.linalg import solve_triangular\n",
    "from pykronecker import KroneckerProduct, KroneckerDiag\n",
    "from jax.scipy.special import expit\n",
    "\n",
    "from kreg.utils import cartesian_prod\n",
    "from kreg.kernel.factory import vectorize_kfunc\n",
    "from kreg.kernel import KroneckerKernel\n",
    "from kreg.likelihood import BinomialLikelihood\n",
    "from kreg.model import KernelRegModel\n",
    "\n",
    "plt.style.use(\"ggplot\")"
   ]
  },
  {
   "cell_type": "code",
   "execution_count": null,
   "metadata": {},
   "outputs": [],
   "source": [
    "age_grid = jnp.arange(0., 101, 1)\n",
    "location_ids = jnp.arange(0, 1000)\n",
    "location_signature = np.sort(jnp.vstack(\n",
    "    [location_ids % 10, location_ids % 100, location_ids]\n",
    ").T,axis=0)\n",
    "\n",
    "full_X = cartesian_prod(location_ids, age_grid)\n",
    "\n",
    "\n",
    "exp_a = 0.66\n",
    "exp_b = 0.0\n",
    "\n",
    "\n",
    "def k_region_single(x, y):\n",
    "    return jnp.power(exp_a, jnp.sum(x != y) + exp_b)\n",
    "\n",
    "\n",
    "def get_gaussianRBF(gamma):\n",
    "    def f(x, y):\n",
    "        return jnp.exp(-jnp.sum((x - y) ** 2) / (2 * gamma**2))\n",
    "\n",
    "    return f\n",
    "\n",
    "\n",
    "gamma = 10\n",
    "k_age_rbf = get_gaussianRBF(gamma)\n",
    "\n",
    "\n",
    "def k_age_single(x, y):\n",
    "    return k_age_rbf(x, y) + 1.0# + 1e-10 * (x == y).all()\n",
    "\n",
    "\n",
    "def k_combined_single(x, y):\n",
    "    return k_region_single(x[0], y[0]) * k_age_single(x[1], y[1])\n",
    "\n",
    "\n",
    "k_combined = vectorize_kfunc(k_combined_single)\n",
    "k_region = vectorize_kfunc(k_region_single)\n",
    "k_age = vectorize_kfunc(k_age_single)"
   ]
  },
  {
   "cell_type": "code",
   "execution_count": null,
   "metadata": {},
   "outputs": [],
   "source": [
    "K_regions = k_region(location_signature, location_signature)\n",
    "K_age = k_age(age_grid, age_grid)\n",
    "\n",
    "K = KroneckerProduct([K_regions, K_age])\n",
    "P = KroneckerProduct([jnp.linalg.inv(K_regions), jnp.linalg.inv(K_age)])\n",
    "\n",
    "reg_eigval, reg_eigvec = jnp.linalg.eigh(K_regions)\n",
    "age_eigval, age_eigvec = jnp.linalg.eigh(K_age)\n",
    "left = KroneckerProduct([reg_eigvec, age_eigvec])\n",
    "\n",
    "kronvals = jnp.outer(reg_eigval, age_eigval)\n",
    "\n",
    "\n",
    "def P_beta(lam, beta):\n",
    "    return left @ KroneckerDiag(kronvals / (lam + beta * kronvals)) @ left.T\n",
    "\n",
    "\n",
    "cholreg = jnp.linalg.cholesky(K_regions)\n",
    "cholreg_inv = solve_triangular(cholreg, jnp.identity(len(K_regions)))\n",
    "\n",
    "cholage = jnp.linalg.cholesky(K_age + 1e-8 * jnp.identity(len(K_age)))\n",
    "cholage_inv = solve_triangular(cholage, jnp.identity(len(K_age)), lower=True)\n",
    "\n",
    "chol_K = KroneckerProduct([cholreg, cholage])\n",
    "\n",
    "\n",
    "# cholkron = jnp.kron(cholreg,cholage)\n",
    "# cholkron_inv = jnp.kron(cholreg_inv,cholage_inv)\n",
    "\n",
    "np.random.seed(12)\n",
    "S = jnp.array(np.random.randn(len(location_ids) * len(age_grid)))\n",
    "truth_sample_raw = chol_K @ S\n",
    "offset = 0.2 * jnp.sin(full_X[:, 1] / 2) - 0.05 * full_X[:, 1]\n",
    "\n",
    "offset_mat = offset.reshape(len(location_ids), len(age_grid))\n",
    "truth_sample = truth_sample_raw + offset\n",
    "plt.figure(figsize=(12, 5))\n",
    "plt.subplot(1, 2, 1)\n",
    "truth_mat = truth_sample.reshape(len(location_ids), len(age_grid))\n",
    "plt.title(\"With offset added\")\n",
    "for i in range(jnp.minimum(len(location_ids), 10)):\n",
    "    plt.plot(truth_mat[i])\n",
    "plt.subplot(1, 2, 2)\n",
    "plt.title(\"Actual Gaussian Process Truth\")\n",
    "for i in range(jnp.minimum(len(location_ids), 10)):\n",
    "    plt.plot(truth_mat[i] - offset_mat[i])\n",
    "plt.show()\n",
    "\n",
    "num_per_location = 80\n",
    "sample_size_lower = 50\n",
    "sample_size_upper = 100\n",
    "observed_indices = jnp.vstack(\n",
    "    [\n",
    "        i * len(age_grid)\n",
    "        + np.random.choice(len(age_grid), num_per_location, replace=False)\n",
    "        for i in range(len(location_ids))\n",
    "    ]\n",
    ").flatten()\n",
    "\n",
    "sample_sizes_observed = np.random.choice(\n",
    "    range(sample_size_lower, sample_size_upper), len(observed_indices)\n",
    ")\n",
    "probs_observed = expit(truth_sample[observed_indices])"
   ]
  },
  {
   "cell_type": "code",
   "execution_count": null,
   "metadata": {},
   "outputs": [],
   "source": [
    "import pandas as pd\n",
    "from kreg.kernel import KernelComponent, KroneckerKernel"
   ]
  },
  {
   "cell_type": "code",
   "execution_count": null,
   "metadata": {},
   "outputs": [],
   "source": [
    "offset = jnp.array(offset)\n",
    "\n",
    "sample_sizes = jnp.zeros(len(location_signature) * len(age_grid))\n",
    "sample_sizes = (\n",
    "    sample_sizes.at[observed_indices].set(sample_sizes_observed).astype(int)\n",
    ")\n",
    "prob_vals = jnp.zeros(len(location_signature) * len(age_grid))\n",
    "prob_vals = prob_vals.at[observed_indices].set(probs_observed)\n",
    "obs_counts = np.random.binomial(sample_sizes, prob_vals)\n",
    "obs_rate = jnp.zeros(len(location_signature) * len(age_grid))\n",
    "obs_rate = obs_rate.at[observed_indices].set(\n",
    "    obs_counts[observed_indices] / sample_sizes[observed_indices]\n",
    ")\n",
    "\n",
    "data = pd.DataFrame(\n",
    "    dict(\n",
    "        obs=obs_rate,\n",
    "        counts=obs_counts,\n",
    "        weights=sample_sizes,\n",
    "        offset=offset,\n",
    "    )\n",
    ")\n",
    "\n",
    "label_region = pd.DataFrame(\n",
    "    data=location_signature,\n",
    "    columns=[\"super_region_id\", \"region_id\", \"location_id\"],\n",
    ")\n",
    "label_age = pd.DataFrame(dict(age_mid=age_grid))\n",
    "label = label_region.merge(label_age, how=\"cross\")\n",
    "data = pd.concat([label, data], axis=1)\n",
    "data = data.sort_values([\"super_region_id\", \"region_id\", \"location_id\",\"age_mid\"])\n",
    "\n",
    "kernel_components = [\n",
    "    KernelComponent([\"super_region_id\", \"region_id\", \"location_id\"], k_region),\n",
    "    KernelComponent(\"age_mid\", k_age),\n",
    "]"
   ]
  },
  {
   "cell_type": "code",
   "execution_count": null,
   "metadata": {},
   "outputs": [],
   "source": [
    "kernel = KroneckerKernel(kernel_components)\n",
    "likelihood = BinomialLikelihood(\"obs\", \"weights\", \"offset\")\n",
    "lam = 1.0\n",
    "model = KernelRegModel(kernel, likelihood, lam)\n",
    "y_opt, conv = model.fit(\n",
    "    data,\n",
    "    gtol=5e-4,\n",
    "    max_iter=50,\n",
    "    cg_maxiter=100,\n",
    "    cg_maxiter_increment=2,\n",
    "    nystroem_rank=50,\n",
    ")"
   ]
  },
  {
   "cell_type": "code",
   "execution_count": null,
   "metadata": {},
   "outputs": [],
   "source": [
    "plt.plot(conv[\"loss_vals\"])\n",
    "plt.yscale(\"log\")"
   ]
  },
  {
   "cell_type": "markdown",
   "metadata": {},
   "source": [
    "#### MSE/Var(truth)"
   ]
  },
  {
   "cell_type": "code",
   "execution_count": null,
   "metadata": {},
   "outputs": [],
   "source": [
    "jnp.mean((y_opt - truth_sample_raw) ** 2) / jnp.var(truth_sample_raw)"
   ]
  },
  {
   "cell_type": "code",
   "execution_count": null,
   "metadata": {},
   "outputs": [],
   "source": [
    "new_data = data.iloc[:4]\n",
    "model.predict(new_data,y_opt)"
   ]
  },
  {
   "cell_type": "code",
   "execution_count": null,
   "metadata": {},
   "outputs": [],
   "source": [
    "model.kernel.attach(data)\n",
    "kc = model.kernel.kernel_components\n",
    "\n",
    "ind = 0\n",
    "jnp.dot(\n",
    "    jnp.kron(kc[0].kfunc(data.iloc[ind:ind+1][kc[0].name].values,kc[0].grid),kc[1].kfunc(data.iloc[ind:ind+1][kc[1].name].values,kc[1].grid)),\n",
    "    model.kernel.op_p@y_opt)"
   ]
  },
  {
   "cell_type": "code",
   "execution_count": null,
   "metadata": {},
   "outputs": [],
   "source": [
    "y_opt[0]"
   ]
  },
  {
   "cell_type": "code",
   "execution_count": null,
   "metadata": {},
   "outputs": [],
   "source": [
    "model.kernel.attach(data)\n",
    "kc = model.kernel.kernel_components"
   ]
  },
  {
   "cell_type": "code",
   "execution_count": null,
   "metadata": {},
   "outputs": [],
   "source": [
    "import jax\n",
    "\n",
    "components = model.kernel.kernel_components\n",
    "new_data = data.iloc[:4]\n",
    "prediction_inputs = [jnp.array(new_data[kc.name].values) for kc in components]\n",
    "\n",
    "\n",
    "from functools import reduce\n",
    "def predict_single(*single_input):\n",
    "    return jnp.dot(reduce(jnp.kron,[kc.kfunc(jnp.array([x]),kc.grid) for kc,x in zip(components,*single_input)]),model.kernel.op_p@y_opt)\n",
    "\n",
    "predict_vec = jax.vmap(jax.jit(predict_single))\n",
    "predict_vec(prediction_inputs)"
   ]
  },
  {
   "cell_type": "code",
   "execution_count": null,
   "metadata": {},
   "outputs": [],
   "source": [
    "def predict(new_data,y_opt):\n",
    "    if model.kernel.matrices_computed is False:\n",
    "        model.kernel.build_matrices()\n",
    "    components = model.kernel.kernel_components\n",
    "    prediction_inputs = [jnp.array(new_data[kc.name].values) for kc in components]\n",
    "    from functools import reduce\n",
    "    def _predict_single(*single_input):\n",
    "        return jnp.dot(reduce(jnp.kron,[kc.kfunc(jnp.array([x]),kc.grid) for kc,x in zip(components,*single_input)]),model.kernel.op_p@y_opt)\n",
    "    predict_vec = jax.vmap(jax.jit(_predict_single))\n",
    "    return predict_vec(prediction_inputs)"
   ]
  },
  {
   "cell_type": "code",
   "execution_count": null,
   "metadata": {},
   "outputs": [],
   "source": [
    "predict(new_data,y_opt)"
   ]
  },
  {
   "cell_type": "code",
   "execution_count": null,
   "metadata": {},
   "outputs": [],
   "source": [
    "predict_single([x[0] for x in prediction_inputs])"
   ]
  }
 ],
 "metadata": {
  "kernelspec": {
   "display_name": "kreg_env",
   "language": "python",
   "name": "python3"
  },
  "language_info": {
   "codemirror_mode": {
    "name": "ipython",
    "version": 3
   },
   "file_extension": ".py",
   "mimetype": "text/x-python",
   "name": "python",
   "nbconvert_exporter": "python",
   "pygments_lexer": "ipython3",
   "version": "3.12.3"
  }
 },
 "nbformat": 4,
 "nbformat_minor": 2
}
